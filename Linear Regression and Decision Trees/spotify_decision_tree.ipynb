{
 "cells": [
  {
   "cell_type": "code",
   "execution_count": 2,
   "metadata": {},
   "outputs": [],
   "source": [
    "import pandas as pd "
   ]
  },
  {
   "cell_type": "code",
   "execution_count": 3,
   "metadata": {},
   "outputs": [
    {
     "data": {
      "text/html": [
       "<div>\n",
       "<style scoped>\n",
       "    .dataframe tbody tr th:only-of-type {\n",
       "        vertical-align: middle;\n",
       "    }\n",
       "\n",
       "    .dataframe tbody tr th {\n",
       "        vertical-align: top;\n",
       "    }\n",
       "\n",
       "    .dataframe thead th {\n",
       "        text-align: right;\n",
       "    }\n",
       "</style>\n",
       "<table border=\"1\" class=\"dataframe\">\n",
       "  <thead>\n",
       "    <tr style=\"text-align: right;\">\n",
       "      <th></th>\n",
       "      <th>Unnamed: 0</th>\n",
       "      <th>Position</th>\n",
       "      <th>Track Name</th>\n",
       "      <th>Streams</th>\n",
       "      <th>Chart Start Date</th>\n",
       "      <th>Chart End Date</th>\n",
       "      <th>Album Name</th>\n",
       "      <th>Release Date</th>\n",
       "      <th>Artist</th>\n",
       "      <th>Features</th>\n",
       "      <th>Song Duration(ms)</th>\n",
       "      <th>Explicit</th>\n",
       "      <th>Url</th>\n",
       "    </tr>\n",
       "  </thead>\n",
       "  <tbody>\n",
       "    <tr>\n",
       "      <th>0</th>\n",
       "      <td>0</td>\n",
       "      <td>1</td>\n",
       "      <td>Easy On Me by Adele</td>\n",
       "      <td>57,081,735</td>\n",
       "      <td>2021-10-22</td>\n",
       "      <td>2021-10-29</td>\n",
       "      <td>Easy On Me</td>\n",
       "      <td>2021-10-14</td>\n",
       "      <td>Adele</td>\n",
       "      <td>None</td>\n",
       "      <td>224694</td>\n",
       "      <td>False</td>\n",
       "      <td>https://open.spotify.com/track/0gplL1WMoJ6iYaP...</td>\n",
       "    </tr>\n",
       "    <tr>\n",
       "      <th>1</th>\n",
       "      <td>1</td>\n",
       "      <td>2</td>\n",
       "      <td>STAY (with Justin Bieber) by The Kid LAROI</td>\n",
       "      <td>43,772,708</td>\n",
       "      <td>2021-10-22</td>\n",
       "      <td>2021-10-29</td>\n",
       "      <td>F*CK LOVE 3: OVER YOU</td>\n",
       "      <td>2021-07-23</td>\n",
       "      <td>The Kid LAROI</td>\n",
       "      <td>Justin Bieber</td>\n",
       "      <td>141805</td>\n",
       "      <td>True</td>\n",
       "      <td>https://open.spotify.com/track/5PjdY0CKGZdEuoN...</td>\n",
       "    </tr>\n",
       "    <tr>\n",
       "      <th>2</th>\n",
       "      <td>2</td>\n",
       "      <td>3</td>\n",
       "      <td>INDUSTRY BABY (feat. Jack Harlow) by Lil Nas X</td>\n",
       "      <td>38,131,363</td>\n",
       "      <td>2021-10-22</td>\n",
       "      <td>2021-10-29</td>\n",
       "      <td>MONTERO</td>\n",
       "      <td>2021-09-17</td>\n",
       "      <td>Lil Nas X</td>\n",
       "      <td>Jack Harlow</td>\n",
       "      <td>212352</td>\n",
       "      <td>True</td>\n",
       "      <td>https://open.spotify.com/track/5Z9KJZvQzH6PFmb...</td>\n",
       "    </tr>\n",
       "    <tr>\n",
       "      <th>3</th>\n",
       "      <td>3</td>\n",
       "      <td>4</td>\n",
       "      <td>Heat Waves by Glass Animals</td>\n",
       "      <td>30,071,945</td>\n",
       "      <td>2021-10-22</td>\n",
       "      <td>2021-10-29</td>\n",
       "      <td>Dreamland (+ Bonus Levels)</td>\n",
       "      <td>2020-08-06</td>\n",
       "      <td>Glass Animals</td>\n",
       "      <td>None</td>\n",
       "      <td>238805</td>\n",
       "      <td>False</td>\n",
       "      <td>https://open.spotify.com/track/02MWAaffLxlfxAU...</td>\n",
       "    </tr>\n",
       "    <tr>\n",
       "      <th>4</th>\n",
       "      <td>4</td>\n",
       "      <td>5</td>\n",
       "      <td>MONEY by LISA</td>\n",
       "      <td>27,961,856</td>\n",
       "      <td>2021-10-22</td>\n",
       "      <td>2021-10-29</td>\n",
       "      <td>LALISA</td>\n",
       "      <td>2021-09-10</td>\n",
       "      <td>LISA</td>\n",
       "      <td>None</td>\n",
       "      <td>168227</td>\n",
       "      <td>False</td>\n",
       "      <td>https://open.spotify.com/track/7hU3IHwjX150XLo...</td>\n",
       "    </tr>\n",
       "  </tbody>\n",
       "</table>\n",
       "</div>"
      ],
      "text/plain": [
       "   Unnamed: 0  Position                                        Track Name  \\\n",
       "0           0         1                              Easy On Me by Adele    \n",
       "1           1         2       STAY (with Justin Bieber) by The Kid LAROI    \n",
       "2           2         3   INDUSTRY BABY (feat. Jack Harlow) by Lil Nas X    \n",
       "3           3         4                      Heat Waves by Glass Animals    \n",
       "4           4         5                                    MONEY by LISA    \n",
       "\n",
       "      Streams Chart Start Date Chart End Date                  Album Name  \\\n",
       "0  57,081,735       2021-10-22     2021-10-29                  Easy On Me   \n",
       "1  43,772,708       2021-10-22     2021-10-29       F*CK LOVE 3: OVER YOU   \n",
       "2  38,131,363       2021-10-22     2021-10-29                     MONTERO   \n",
       "3  30,071,945       2021-10-22     2021-10-29  Dreamland (+ Bonus Levels)   \n",
       "4  27,961,856       2021-10-22     2021-10-29                      LALISA   \n",
       "\n",
       "  Release Date         Artist       Features  Song Duration(ms)  Explicit  \\\n",
       "0   2021-10-14          Adele           None             224694     False   \n",
       "1   2021-07-23  The Kid LAROI  Justin Bieber             141805      True   \n",
       "2   2021-09-17      Lil Nas X    Jack Harlow             212352      True   \n",
       "3   2020-08-06  Glass Animals           None             238805     False   \n",
       "4   2021-09-10           LISA           None             168227     False   \n",
       "\n",
       "                                                 Url  \n",
       "0  https://open.spotify.com/track/0gplL1WMoJ6iYaP...  \n",
       "1  https://open.spotify.com/track/5PjdY0CKGZdEuoN...  \n",
       "2  https://open.spotify.com/track/5Z9KJZvQzH6PFmb...  \n",
       "3  https://open.spotify.com/track/02MWAaffLxlfxAU...  \n",
       "4  https://open.spotify.com/track/7hU3IHwjX150XLo...  "
      ]
     },
     "execution_count": 3,
     "metadata": {},
     "output_type": "execute_result"
    }
   ],
   "source": [
    "df = pd.read_csv(\"spotify-charts.csv\")\n",
    "df.head()"
   ]
  },
  {
   "cell_type": "markdown",
   "metadata": {},
   "source": [
    "### Cleaning data\n"
   ]
  },
  {
   "cell_type": "code",
   "execution_count": 10,
   "metadata": {},
   "outputs": [],
   "source": [
    "# trimming string columns\n",
    "for i in df.columns:\n",
    "    df[i].apply(lambda x: x.trim() if type(x)==\"str\" else x)"
   ]
  },
  {
   "cell_type": "code",
   "execution_count": 13,
   "metadata": {},
   "outputs": [],
   "source": [
    "# changing duration from ms to min\n",
    "df[\"Song Duration(min)\"] = (df[\"Song Duration(ms)\"]/60000)"
   ]
  },
  {
   "cell_type": "markdown",
   "metadata": {},
   "source": [
    "### Adding new categories"
   ]
  },
  {
   "cell_type": "code",
   "execution_count": null,
   "metadata": {},
   "outputs": [],
   "source": []
  },
  {
   "cell_type": "code",
   "execution_count": null,
   "metadata": {},
   "outputs": [],
   "source": []
  }
 ],
 "metadata": {
  "interpreter": {
   "hash": "dcacb0086e9a4f4eabd41c33bf4faac5ea0a3337ed3f5eff0680afa930572c04"
  },
  "kernelspec": {
   "display_name": "Python 3.9.4 64-bit",
   "language": "python",
   "name": "python3"
  },
  "language_info": {
   "codemirror_mode": {
    "name": "ipython",
    "version": 3
   },
   "file_extension": ".py",
   "mimetype": "text/x-python",
   "name": "python",
   "nbconvert_exporter": "python",
   "pygments_lexer": "ipython3",
   "version": "3.9.4"
  },
  "orig_nbformat": 4
 },
 "nbformat": 4,
 "nbformat_minor": 2
}
