{
 "cells": [
  {
   "cell_type": "code",
   "execution_count": 1,
   "metadata": {},
   "outputs": [],
   "source": [
    "import nltk"
   ]
  },
  {
   "cell_type": "code",
   "execution_count": 2,
   "metadata": {},
   "outputs": [],
   "source": [
    "paragraph = \"\"\"I have three visions for India. In 3000 years of our history, people from all over \n",
    "                the world have come and invaded us, captured our lands, conquered our minds. \n",
    "                From Alexander onwards, the Greeks, the Turks, the Moguls, the Portuguese, the British,\n",
    "                the French, the Dutch, all of them came and looted us, took over what was ours. \n",
    "                Yet we have not done this to any other nation. We have not conquered anyone. \n",
    "                We have not grabbed their land, their culture, \n",
    "                their history and tried to enforce our way of life on them. \n",
    "                Why? Because we respect the freedom of others.That is why my \n",
    "                first vision is that of freedom. I believe that India got its first vision of \n",
    "                this in 1857, when we started the War of Independence. It is this freedom that\n",
    "                we must protect and nurture and build on. If we are not free, no one will respect us.\n",
    "                My second vision for India’s development. For fifty years we have been a developing nation.\n",
    "                It is time we see ourselves as a developed nation. We are among the top 5 nations of the world\n",
    "                in terms of GDP. We have a 10 percent growth rate in most areas. Our poverty levels are falling.\n",
    "                Our achievements are being globally recognised today. Yet we lack the self-confidence to\n",
    "                see ourselves as a developed nation, self-reliant and self-assured. Isn’t this incorrect?\n",
    "                I have a third vision. India must stand up to the world. Because I believe that unless India \n",
    "                stands up to the world, no one will respect us. Only strength respects strength. We must be \n",
    "                strong not only as a military power but also as an economic power. Both must go hand-in-hand. \n",
    "                My good fortune was to have worked with three great minds. Dr. Vikram Sarabhai of the Dept. of \n",
    "                space, Professor Satish Dhawan, who succeeded him and Dr. Brahm Prakash, father of nuclear material.\n",
    "                I was lucky to have worked with all three of them closely and consider this the great opportunity of my life. \n",
    "                I see four milestones in my career\"\"\""
   ]
  },
  {
   "cell_type": "markdown",
   "metadata": {},
   "source": [
    "### Cleanign the data"
   ]
  },
  {
   "cell_type": "code",
   "execution_count": 3,
   "metadata": {},
   "outputs": [],
   "source": [
    "import re \n",
    "from nltk.corpus import stopwords\n",
    "from nltk.stem import PorterStemmer\n",
    "from nltk.stem import WordNetLemmatizer"
   ]
  },
  {
   "cell_type": "code",
   "execution_count": 4,
   "metadata": {},
   "outputs": [],
   "source": [
    "sentences = nltk.sent_tokenize(paragraph)\n",
    "wl = WordNetLemmatizer()"
   ]
  },
  {
   "cell_type": "markdown",
   "metadata": {},
   "source": [
    "### Cleaning the Text Data"
   ]
  },
  {
   "cell_type": "code",
   "execution_count": 5,
   "metadata": {},
   "outputs": [],
   "source": [
    "corpus = []\n",
    "for i in range(len(sentences)):\n",
    "    review = re.sub('[^a-zA-Z]',\" \", sentences[i])\n",
    "    review = review.lower()\n",
    "    review = review.split()\n",
    "    review = [wl.lemmatize(word) for word in review if word not in stopwords.words(\"english\")]\n",
    "    review = \" \".join(review)\n",
    "    corpus.append(review)"
   ]
  },
  {
   "cell_type": "code",
   "execution_count": 6,
   "metadata": {},
   "outputs": [
    {
     "name": "stdout",
     "output_type": "stream",
     "text": [
      "['three vision india', 'year history people world come invaded u captured land conquered mind', 'alexander onwards greek turk mogul portuguese british french dutch came looted u took', 'yet done nation', 'conquered anyone', 'grabbed land culture history tried enforce way life', '', 'respect freedom others first vision freedom', 'believe india got first vision started war independence', 'freedom must protect nurture build', 'free one respect u', 'second vision india development', 'fifty year developing nation', 'time see developed nation', 'among top nation world term gdp', 'percent growth rate area', 'poverty level falling', 'achievement globally recognised today', 'yet lack self confidence see developed nation self reliant self assured', 'incorrect', 'third vision', 'india must stand world', 'believe unless india stand world one respect u', 'strength respect strength', 'must strong military power also economic power', 'must go hand hand', 'good fortune worked three great mind', 'dr vikram sarabhai dept', 'space professor satish dhawan succeeded dr brahm prakash father nuclear material', 'lucky worked three closely consider great opportunity life', 'see four milestone career']\n"
     ]
    }
   ],
   "source": [
    "print(corpus)"
   ]
  },
  {
   "cell_type": "markdown",
   "metadata": {},
   "source": [
    "### Making the Model"
   ]
  },
  {
   "cell_type": "code",
   "execution_count": 7,
   "metadata": {},
   "outputs": [],
   "source": [
    "from sklearn.feature_extraction.text import TfidfVectorizer"
   ]
  },
  {
   "cell_type": "code",
   "execution_count": 10,
   "metadata": {},
   "outputs": [],
   "source": [
    "model = TfidfVectorizer()\n",
    "X = model.fit_transform(corpus).toarray()"
   ]
  },
  {
   "cell_type": "code",
   "execution_count": 12,
   "metadata": {},
   "outputs": [
    {
     "name": "stdout",
     "output_type": "stream",
     "text": [
      "[[0.         0.         0.         ... 0.         0.         0.        ]\n",
      " [0.         0.         0.         ... 0.25883507 0.30512561 0.        ]\n",
      " [0.         0.28867513 0.         ... 0.         0.         0.        ]\n",
      " ...\n",
      " [0.         0.         0.         ... 0.         0.         0.        ]\n",
      " [0.         0.         0.         ... 0.         0.         0.        ]\n",
      " [0.         0.         0.         ... 0.         0.         0.        ]] \n",
      " (31, 114)\n"
     ]
    }
   ],
   "source": [
    "print(X,\"\\n\",X.shape)"
   ]
  },
  {
   "cell_type": "code",
   "execution_count": null,
   "metadata": {},
   "outputs": [],
   "source": []
  }
 ],
 "metadata": {
  "interpreter": {
   "hash": "dcacb0086e9a4f4eabd41c33bf4faac5ea0a3337ed3f5eff0680afa930572c04"
  },
  "kernelspec": {
   "display_name": "Python 3.9.4 64-bit",
   "language": "python",
   "name": "python3"
  },
  "language_info": {
   "codemirror_mode": {
    "name": "ipython",
    "version": 3
   },
   "file_extension": ".py",
   "mimetype": "text/x-python",
   "name": "python",
   "nbconvert_exporter": "python",
   "pygments_lexer": "ipython3",
   "version": "3.9.4"
  },
  "orig_nbformat": 4
 },
 "nbformat": 4,
 "nbformat_minor": 2
}
